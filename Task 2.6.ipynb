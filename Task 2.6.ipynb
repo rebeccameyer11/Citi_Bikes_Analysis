{
 "cells": [
  {
   "cell_type": "markdown",
   "id": "e576c6d9-15c6-4c39-aa5a-c517ed067b6d",
   "metadata": {},
   "source": [
    "# Exercise 2.6 Task"
   ]
  },
  {
   "cell_type": "markdown",
   "id": "1434b1bf-90d7-4057-96e6-e7894f0a402f",
   "metadata": {},
   "source": [
    "## 01 - 02. Import Libraries and Data"
   ]
  },
  {
   "cell_type": "code",
   "execution_count": null,
   "id": "87750730-75ae-4f6b-b3a1-ec210a22f22d",
   "metadata": {},
   "outputs": [],
   "source": [
    "import streamlit as st\n",
    "import pandas as pd\n",
    "import numpy as np\n",
    "import plotly.express as px\n",
    "from plotly.subplots import make_subplots\n",
    "import plotly.graph_objects as go\n",
    "import matplotlib.pyplot as plt\n",
    "from datetime import datetime as dt\n",
    "from streamlit_keplergl import keplergl_static"
   ]
  },
  {
   "cell_type": "code",
   "execution_count": null,
   "id": "f78f1897-9f34-4503-b083-562e7642d940",
   "metadata": {},
   "outputs": [],
   "source": [
    "df = pd.read_csv('newyork_data_temps_bikeridesdaily.csv', index_col = 0)"
   ]
  },
  {
   "cell_type": "code",
   "execution_count": null,
   "id": "ca6d56e2-e647-4e0e-975d-fee599afcb1f",
   "metadata": {},
   "outputs": [],
   "source": [
    "df.dtypes"
   ]
  },
  {
   "cell_type": "code",
   "execution_count": null,
   "id": "c51129b5-fd2b-4abf-85dd-fd8d4a80593a",
   "metadata": {},
   "outputs": [],
   "source": [
    "df.head(10)"
   ]
  },
  {
   "cell_type": "code",
   "execution_count": null,
   "id": "308d2391-5ff7-47f0-8a76-7492715969ff",
   "metadata": {},
   "outputs": [],
   "source": [
    "# Adding date column back in as column, not as index\n",
    "\n",
    "# If 'date' already exists as a column, drop it first\n",
    "if 'date' in df.columns:\n",
    "    df = df.drop(columns=['date'])\n",
    "\n",
    "# Safely reset the index (date becomes a column)\n",
    "df = df.reset_index()\n",
    "\n",
    "# Convert it to datetime dtype\n",
    "df['date'] = pd.to_datetime(df['date'], format='%Y-%m-%d')\n"
   ]
  },
  {
   "cell_type": "code",
   "execution_count": null,
   "id": "7a90ca2a-8cd3-4650-8214-69a5530be56a",
   "metadata": {},
   "outputs": [],
   "source": [
    "df.shape"
   ]
  },
  {
   "cell_type": "code",
   "execution_count": null,
   "id": "6b5dfdf5-f7a7-437f-9974-5ba6247b5d76",
   "metadata": {},
   "outputs": [],
   "source": [
    "df.describe()"
   ]
  },
  {
   "cell_type": "code",
   "execution_count": null,
   "id": "3cf76981-12aa-47bc-8864-aafc2f78c5ae",
   "metadata": {},
   "outputs": [],
   "source": [
    "# Looking for missing values\n",
    "\n",
    "df.isnull().sum()"
   ]
  },
  {
   "cell_type": "code",
   "execution_count": null,
   "id": "5cfe1b41-0c2c-443a-b79a-f7921d203a16",
   "metadata": {},
   "outputs": [],
   "source": [
    "df.head(10)"
   ]
  },
  {
   "cell_type": "code",
   "execution_count": null,
   "id": "fbbd9838-8793-4e58-ac4d-49fe598b0118",
   "metadata": {},
   "outputs": [],
   "source": [
    "# Create a month column \n",
    "\n",
    "df['month'] = df['date'].dt.month\n",
    "df['month'] = df['month'].astype('int')"
   ]
  },
  {
   "cell_type": "code",
   "execution_count": null,
   "id": "9725c10d-3610-4712-a341-deebb4405ce8",
   "metadata": {},
   "outputs": [],
   "source": [
    "# Create the season column\n",
    "\n",
    "df['season'] = [\n",
    "\"winter\" if (month == 12 or 1 <= month <= 4)\n",
    "    else \"spring\" if (4 < month <= 5)\n",
    "    else \"summer\" if (6 <= month <= 9)\n",
    "    else \"fall\"\n",
    "for month in df['month']\n",
    "    ]"
   ]
  },
  {
   "cell_type": "code",
   "execution_count": null,
   "id": "96fb4164-baae-4df8-8ea7-daac75bc36de",
   "metadata": {},
   "outputs": [],
   "source": [
    "df.shape"
   ]
  },
  {
   "cell_type": "code",
   "execution_count": null,
   "id": "f8da3919-1ffd-418f-b18c-46233d6a2c34",
   "metadata": {},
   "outputs": [],
   "source": [
    "df.columns"
   ]
  },
  {
   "cell_type": "markdown",
   "id": "b5a278a5-7587-4e19-a26f-df9d3f6a7600",
   "metadata": {},
   "source": [
    "## 03. Create Plotly Chart"
   ]
  },
  {
   "cell_type": "code",
   "execution_count": null,
   "id": "0d0eda66-25c4-4c50-bbef-a1d0987639dc",
   "metadata": {},
   "outputs": [],
   "source": [
    "# Create Top 20 Groupby\n",
    "\n",
    "df['value'] = 1 \n",
    "df_groupby_bar = df.groupby('start_station_name', as_index=False).agg({'value': 'sum'})\n",
    "top20 = df_groupby_bar.nlargest(20, 'value')"
   ]
  },
  {
   "cell_type": "code",
   "execution_count": null,
   "id": "574e7da1-39b2-4bbb-bd78-caf4c39b2834",
   "metadata": {},
   "outputs": [],
   "source": [
    "# Bar Chart\n",
    "\n",
    "fig = go.Figure(go.Bar(x = top20['start_station_name'], y = top20['value'], marker={'color': top20['value'],'colorscale': 'Blues'}))\n",
    "fig.show()"
   ]
  },
  {
   "cell_type": "code",
   "execution_count": null,
   "id": "ab3611c0-d6da-4c58-9b8a-f31c3c10d749",
   "metadata": {},
   "outputs": [],
   "source": [
    "# Bar chart\n",
    "\n",
    "fig.update_layout(\n",
    "    title = 'Top 20 Most Popular Bike Stations in New York',\n",
    "    xaxis_title = 'Start Stations',\n",
    "    yaxis_title ='Sum of Trips',\n",
    "    width = 900, height = 600\n",
    ")"
   ]
  },
  {
   "cell_type": "code",
   "execution_count": null,
   "id": "68d3ed19-0a2f-4094-8940-ea2e02a56685",
   "metadata": {},
   "outputs": [],
   "source": [
    "# Save the top 20 stations as a CSV file\n",
    "\n",
    "top20.to_csv('newyork_top20.csv')"
   ]
  },
  {
   "cell_type": "markdown",
   "id": "a2ab43e1-f902-434a-aab4-1fcc95249678",
   "metadata": {},
   "source": [
    "## 04. Dual-Axis Chart"
   ]
  },
  {
   "cell_type": "code",
   "execution_count": null,
   "id": "2a6dff39-54e9-4f3b-9b82-01b8f822d0e7",
   "metadata": {},
   "outputs": [],
   "source": [
    "# Ensure date is datetime and sort\n",
    "df['date'] = pd.to_datetime(df['date'])\n",
    "df = df.sort_values('date')\n",
    "\n",
    "# Dual Axis \n",
    "fig2 = make_subplots(specs=[[{\"secondary_y\": True}]])\n",
    "\n",
    "fig2.add_trace(\n",
    "    go.Scatter(\n",
    "        x=df['date'], \n",
    "        y=df['bike_rides_daily'], \n",
    "        name='Daily Trips',\n",
    "        mode='lines',           \n",
    "        line_shape='spline'\n",
    "    ),\n",
    "    secondary_y=False\n",
    ")\n",
    "\n",
    "fig2.add_trace(\n",
    "    go.Scatter(\n",
    "        x=df['date'], \n",
    "        y=df['avgTemp'], \n",
    "        name='Daily Temperature',\n",
    "        mode='lines',           \n",
    "        line_shape='spline'\n",
    "    ),\n",
    "    secondary_y=True\n",
    ")\n",
    "\n",
    "fig2.update_layout(\n",
    "    title='Daily Trips vs Temperature',\n",
    "    xaxis_title='Date',\n",
    "    yaxis_title='Trips',\n",
    "    yaxis2_title='Temperature (°F)',\n",
    "    template='plotly_white'\n",
    ")\n",
    "\n",
    "fig2.show()"
   ]
  },
  {
   "cell_type": "code",
   "execution_count": null,
   "id": "34276874-64fe-4ffa-9728-1784c905cd65",
   "metadata": {},
   "outputs": [],
   "source": [
    "import gc # this is a garbage collector\n",
    "gc.collect()"
   ]
  },
  {
   "cell_type": "code",
   "execution_count": null,
   "id": "e25255cd-f983-4c4d-a765-d055481d5356",
   "metadata": {},
   "outputs": [],
   "source": [
    "df.columns"
   ]
  },
  {
   "cell_type": "code",
   "execution_count": null,
   "id": "589e5a6d-3ff3-4a8d-8bc1-e33e964d6312",
   "metadata": {},
   "outputs": [],
   "source": [
    "# Create a copy with fewer columns\n",
    "\n",
    "df_1 = df.drop(columns = {'ride_id', 'started_at', 'ended_at',\n",
    "       'start_station_id', 'end_station_id', 'merge_flag', 'started_at_dt'}) "
   ]
  },
  {
   "cell_type": "code",
   "execution_count": null,
   "id": "704e9910-dd53-40e3-81b5-76148d99c551",
   "metadata": {},
   "outputs": [],
   "source": [
    "df_1.columns"
   ]
  },
  {
   "cell_type": "markdown",
   "id": "92d0f825-616a-4414-b7c3-6ee40b3e697f",
   "metadata": {},
   "source": [
    "## Create a random split"
   ]
  },
  {
   "cell_type": "code",
   "execution_count": null,
   "id": "ca474f1c-2e49-4f17-9011-996788aa964b",
   "metadata": {},
   "outputs": [],
   "source": [
    "np.random.seed(32)\n",
    "red = np.random.rand(len(df_1)) <= 0.92"
   ]
  },
  {
   "cell_type": "code",
   "execution_count": null,
   "id": "027fe04e-5295-42a3-bd96-9c4477f603dc",
   "metadata": {},
   "outputs": [],
   "source": [
    "small = df_1[~red]"
   ]
  },
  {
   "cell_type": "code",
   "execution_count": null,
   "id": "e261e7b3-0df2-4262-8856-4fe0a1bcd01d",
   "metadata": {},
   "outputs": [],
   "source": [
    "small.shape"
   ]
  },
  {
   "cell_type": "code",
   "execution_count": null,
   "id": "e37ae9d9-7974-477f-a59f-07f94f696bcf",
   "metadata": {},
   "outputs": [],
   "source": [
    "small.to_csv('reduced_ny_data_to_plot_7.csv',index = False)"
   ]
  },
  {
   "cell_type": "code",
   "execution_count": null,
   "id": "3286c3a1-bba5-4b9d-adff-c984dfb627ce",
   "metadata": {},
   "outputs": [],
   "source": [
    "df_1.to_csv('reduced_ny_data_to_plot.csv')"
   ]
  },
  {
   "cell_type": "code",
   "execution_count": null,
   "id": "1d8f6dfa-ed85-4abe-b853-b4e64a428674",
   "metadata": {},
   "outputs": [],
   "source": []
  }
 ],
 "metadata": {
  "kernelspec": {
   "display_name": "Python (Citi_Bikes)",
   "language": "python",
   "name": "citi_bikes"
  },
  "language_info": {
   "codemirror_mode": {
    "name": "ipython",
    "version": 3
   },
   "file_extension": ".py",
   "mimetype": "text/x-python",
   "name": "python",
   "nbconvert_exporter": "python",
   "pygments_lexer": "ipython3",
   "version": "3.11.13"
  }
 },
 "nbformat": 4,
 "nbformat_minor": 5
}
