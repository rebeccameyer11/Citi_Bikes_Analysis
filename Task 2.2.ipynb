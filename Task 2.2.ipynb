{
 "cells": [
  {
   "cell_type": "markdown",
   "id": "68968c6d-a7b2-42e7-a10c-d144c4b3f507",
   "metadata": {},
   "source": [
    "# Task 2.2 - New York's CitiBike "
   ]
  },
  {
   "cell_type": "markdown",
   "id": "60f6d0d1-857a-4999-a682-3f28c1f09502",
   "metadata": {},
   "source": [
    "## Import Libraries"
   ]
  },
  {
   "cell_type": "code",
   "execution_count": null,
   "id": "1db41702-bfb6-4eda-8556-351b92f27f06",
   "metadata": {},
   "outputs": [],
   "source": [
    "import pandas as pd\n",
    "import numpy as np\n",
    "import os\n",
    "import requests\n",
    "import json\n",
    "from datetime import datetime"
   ]
  },
  {
   "cell_type": "code",
   "execution_count": null,
   "id": "83c8028b-e226-42c8-ac69-b2ce727aaeb0",
   "metadata": {},
   "outputs": [],
   "source": [
    "# Create a list with all files in the folder using a list comprehension\n",
    "\n",
    "folderpath = r\"Data\" \n",
    "filepaths  = [os.path.join(folderpath, name) for name in os.listdir(folderpath)]"
   ]
  },
  {
   "cell_type": "code",
   "execution_count": null,
   "id": "6c4cdf61-3381-4bcb-9134-c18a6fcc9615",
   "metadata": {},
   "outputs": [],
   "source": [
    "filepaths"
   ]
  },
  {
   "cell_type": "markdown",
   "id": "9b14d20f-9455-473e-9c8b-3312c6bb6451",
   "metadata": {},
   "source": [
    "#### By putting all of our data in the Data folder, we're easily able to call all the files we need in 1 simple code instead of a more complicated for-loop code, which is not needed here. By using comprehensions, we're able to write less code (making this faster), helps to optimized Python so it runs faster, and we reduce function call overhead."
   ]
  },
  {
   "cell_type": "code",
   "execution_count": null,
   "id": "ab3fc370-8e72-40d2-8006-4ed1b947d423",
   "metadata": {},
   "outputs": [],
   "source": [
    "# Read and join/concatenate all files simultaneously\n",
    "\n",
    "df = pd.concat((pd.read_csv(f) for f in filepaths), ignore_index = True)"
   ]
  },
  {
   "cell_type": "code",
   "execution_count": null,
   "id": "0183184d-37cd-468b-b4a2-63f413a1bbce",
   "metadata": {},
   "outputs": [],
   "source": [
    "df.shape"
   ]
  },
  {
   "cell_type": "code",
   "execution_count": null,
   "id": "f31fde1e-f21b-46d9-8464-91c0e6fd5b57",
   "metadata": {},
   "outputs": [],
   "source": [
    "df.head()"
   ]
  },
  {
   "cell_type": "code",
   "execution_count": null,
   "id": "bcdedb8a-9ee3-4dad-b013-f70bd2063608",
   "metadata": {},
   "outputs": [],
   "source": [
    "df.tail()"
   ]
  },
  {
   "cell_type": "markdown",
   "id": "3566032c-7c2d-437a-9f23-0a689852120c",
   "metadata": {},
   "source": [
    "## Get weather data from NOAA's API"
   ]
  },
  {
   "cell_type": "code",
   "execution_count": null,
   "id": "187c2bf5-feed-4f03-9414-1bb426db6753",
   "metadata": {},
   "outputs": [],
   "source": [
    "# Define your NOAA token\n",
    "\n",
    "Token = 'WxSJZBiUNEJFprPrelTdssDhQrsDHDKQ'"
   ]
  },
  {
   "cell_type": "code",
   "execution_count": null,
   "id": "47942832-9678-4c80-adbe-ced7bdb68747",
   "metadata": {},
   "outputs": [],
   "source": [
    "# Get the API \n",
    "\n",
    "r = requests.get('https://www.ncdc.noaa.gov/cdo-web/api/v2/data?datasetid=GHCND&datatypeid=TAVG&limit=1000&stationid=GHCND:USW00014732&startdate=2022-01-01&enddate=2022-12-31', headers={'token':Token})"
   ]
  },
  {
   "cell_type": "code",
   "execution_count": null,
   "id": "5e71e21c-1258-4aaa-9794-588354ee30a7",
   "metadata": {},
   "outputs": [],
   "source": [
    "# Load the api response as a json\n",
    "\n",
    "d = json.loads(r.text)"
   ]
  },
  {
   "cell_type": "code",
   "execution_count": null,
   "id": "6763bee5-eeee-4178-85bc-93071f95f950",
   "metadata": {},
   "outputs": [],
   "source": [
    "d"
   ]
  },
  {
   "cell_type": "code",
   "execution_count": null,
   "id": "cf4ada95-6754-4db7-9270-e1d4fb1b73a5",
   "metadata": {},
   "outputs": [],
   "source": [
    "# Secure all items in the response that correspond to TAVG\n",
    "\n",
    "avg_temps = [item for item in d['results'] if item['datatype']=='TAVG']"
   ]
  },
  {
   "cell_type": "code",
   "execution_count": null,
   "id": "b9f73462-17bd-4423-88e9-ec208e20c426",
   "metadata": {},
   "outputs": [],
   "source": [
    "# Get only the date field from all average temperature readings\n",
    "\n",
    "dates_temp = [item['date'] for item in avg_temps]"
   ]
  },
  {
   "cell_type": "code",
   "execution_count": null,
   "id": "e602f904-81a6-4e9f-a998-8c14f6fe3aea",
   "metadata": {},
   "outputs": [],
   "source": [
    "# Get the temperature from all average temperature readings\n",
    "\n",
    "temps = [item['value'] for item in avg_temps]"
   ]
  },
  {
   "cell_type": "code",
   "execution_count": null,
   "id": "fdc25c15-7e45-4bb9-bf78-6d77f9841c53",
   "metadata": {},
   "outputs": [],
   "source": [
    "temps"
   ]
  },
  {
   "cell_type": "code",
   "execution_count": null,
   "id": "64da6939-ca13-4e13-986b-6cf9fe8649e4",
   "metadata": {},
   "outputs": [],
   "source": [
    "# Put the results in a dataframe\n",
    "\n",
    "df_temp = pd.DataFrame()"
   ]
  },
  {
   "cell_type": "code",
   "execution_count": null,
   "id": "d3aaf448-6470-43dc-a020-e459e8bee769",
   "metadata": {},
   "outputs": [],
   "source": [
    "# Get only date and cast it to date time; convert temperature from tenths of Celsius to normal Celsius\n",
    "\n",
    "df_temp['date'] = [datetime.strptime(d, \"%Y-%m-%dT%H:%M:%S\") for d in dates_temp]\n",
    "df_temp['avgTemp'] = [float(v)/10.0 for v in temps]"
   ]
  },
  {
   "cell_type": "code",
   "execution_count": null,
   "id": "d47a7b19-378b-4420-9808-b849bb3f28e2",
   "metadata": {},
   "outputs": [],
   "source": [
    "df_temp.tail()"
   ]
  },
  {
   "cell_type": "code",
   "execution_count": null,
   "id": "358c2264-de8f-4eef-abb2-1add5bff4907",
   "metadata": {},
   "outputs": [],
   "source": [
    "df_temp.head()"
   ]
  },
  {
   "cell_type": "code",
   "execution_count": null,
   "id": "4d1155ed-e355-42f9-af1c-a4d22d0b448f",
   "metadata": {},
   "outputs": [],
   "source": [
    "df.dtypes"
   ]
  },
  {
   "cell_type": "code",
   "execution_count": null,
   "id": "cbddac2e-9bbd-4984-95ff-446b152e6d4d",
   "metadata": {},
   "outputs": [],
   "source": [
    "df['started_at'] = pd.to_datetime(df['started_at'])"
   ]
  },
  {
   "cell_type": "code",
   "execution_count": null,
   "id": "9ee57ba1-620e-48de-92a2-f0d3cc3312e4",
   "metadata": {},
   "outputs": [],
   "source": [
    "df['date'] = pd.to_datetime(df['started_at'], format='%Y-%m-%d').dt.date"
   ]
  },
  {
   "cell_type": "code",
   "execution_count": null,
   "id": "8a102b3b-c6c6-48ee-ac01-a862894aa470",
   "metadata": {},
   "outputs": [],
   "source": [
    "df['date'] = pd.to_datetime(df['date'])"
   ]
  },
  {
   "cell_type": "code",
   "execution_count": null,
   "id": "b46e9daf-7bca-4d6d-b83b-61c06a91af61",
   "metadata": {},
   "outputs": [],
   "source": [
    "df_temp.head()"
   ]
  },
  {
   "cell_type": "code",
   "execution_count": null,
   "id": "8901117f-c8ab-4ffe-a890-e9f22b89b97c",
   "metadata": {},
   "outputs": [],
   "source": [
    "%%time\n",
    "df_merged = df.merge(df_temp, how = 'left', on = 'date', indicator = True)"
   ]
  },
  {
   "cell_type": "code",
   "execution_count": null,
   "id": "58513d1f-8405-4ecc-8bf4-7f61d836e76c",
   "metadata": {},
   "outputs": [],
   "source": [
    "df_merged.head()"
   ]
  },
  {
   "cell_type": "code",
   "execution_count": null,
   "id": "99ca5e53-035f-4e46-81e4-8cf39da82b6d",
   "metadata": {},
   "outputs": [],
   "source": [
    "df_merged['_merge'].value_counts(dropna = False)"
   ]
  },
  {
   "cell_type": "code",
   "execution_count": null,
   "id": "ac29adde-b7ab-4ce4-95df-01a417ec8b65",
   "metadata": {},
   "outputs": [],
   "source": [
    "df_merged.to_csv('newyork_data.csv')"
   ]
  },
  {
   "cell_type": "code",
   "execution_count": null,
   "id": "fc8afb3f-5f9d-462e-a6b6-35633bc549d7",
   "metadata": {},
   "outputs": [],
   "source": [
    "df.shape"
   ]
  },
  {
   "cell_type": "code",
   "execution_count": null,
   "id": "c36f5793-f8de-4748-8090-68b152255e8f",
   "metadata": {},
   "outputs": [],
   "source": []
  }
 ],
 "metadata": {
  "kernelspec": {
   "display_name": "Python (Citi_Bikes)",
   "language": "python",
   "name": "citi_bikes"
  },
  "language_info": {
   "codemirror_mode": {
    "name": "ipython",
    "version": 3
   },
   "file_extension": ".py",
   "mimetype": "text/x-python",
   "name": "python",
   "nbconvert_exporter": "python",
   "pygments_lexer": "ipython3",
   "version": "3.11.13"
  }
 },
 "nbformat": 4,
 "nbformat_minor": 5
}
