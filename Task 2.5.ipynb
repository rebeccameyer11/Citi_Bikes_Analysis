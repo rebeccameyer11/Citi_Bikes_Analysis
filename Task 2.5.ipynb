{
 "cells": [
  {
   "cell_type": "markdown",
   "id": "ddd22309-df06-427e-b403-389335270b19",
   "metadata": {},
   "source": [
    "# Exercise 2.5 Task"
   ]
  },
  {
   "cell_type": "markdown",
   "id": "1c1476dc-0a2b-4ca1-8a89-e33989a2a079",
   "metadata": {},
   "source": [
    "## 01 - 02. Import Libraries and Data"
   ]
  },
  {
   "cell_type": "code",
   "execution_count": null,
   "id": "736dea05-6910-46dc-bcdb-6d9faddd0bae",
   "metadata": {},
   "outputs": [],
   "source": [
    "# Import Libraries\n",
    "\n",
    "import pandas as pd\n",
    "import os\n",
    "from keplergl import KeplerGl\n",
    "from pyproj import CRS\n",
    "import numpy as np\n",
    "from matplotlib import pyplot as plt"
   ]
  },
  {
   "cell_type": "code",
   "execution_count": null,
   "id": "58456b7a-569f-4ac7-92db-9a015e4c3698",
   "metadata": {},
   "outputs": [],
   "source": [
    "# Import Data\n",
    "\n",
    "df = pd.read_csv('newyork_data.csv', index_col = 0)"
   ]
  },
  {
   "cell_type": "markdown",
   "id": "91eaef30-b242-4230-a85d-0b9b546503ac",
   "metadata": {},
   "source": [
    "## 03. Data Preprocessing"
   ]
  },
  {
   "cell_type": "code",
   "execution_count": null,
   "id": "e82e3334-4987-40f3-8660-4ec598ccee89",
   "metadata": {},
   "outputs": [],
   "source": [
    "df.head(10)"
   ]
  },
  {
   "cell_type": "code",
   "execution_count": null,
   "id": "7a582a7e-b5f8-4fa1-9f4d-87f62e901607",
   "metadata": {},
   "outputs": [],
   "source": [
    "# Create a value column and group by start and end station \n",
    "\n",
    "df['value'] = 1\n",
    "df_group = df.groupby(['start_station_name', 'end_station_name'])['value'].count().reset_index()"
   ]
  },
  {
   "cell_type": "code",
   "execution_count": null,
   "id": "0f18dc5f-48d9-4e75-a545-9374de1d2d72",
   "metadata": {},
   "outputs": [],
   "source": [
    "df_group"
   ]
  },
  {
   "cell_type": "code",
   "execution_count": null,
   "id": "82edf0f6-81e9-4177-95f9-24e91403e392",
   "metadata": {},
   "outputs": [],
   "source": [
    "print(df_group['value'].sum())\n",
    "print(df.shape)"
   ]
  },
  {
   "cell_type": "code",
   "execution_count": null,
   "id": "9252f77b-a78e-4cb7-9d53-e245d64eedc4",
   "metadata": {},
   "outputs": [],
   "source": [
    "df_group['value'].describe()"
   ]
  },
  {
   "cell_type": "code",
   "execution_count": null,
   "id": "7f8c5ce5-e0ad-4b2c-bc0a-5c6f21590d43",
   "metadata": {},
   "outputs": [],
   "source": [
    "# Rename column\n",
    "\n",
    "df_group.rename(columns = {'value': 'trips'}, inplace = True)"
   ]
  },
  {
   "cell_type": "code",
   "execution_count": null,
   "id": "84bd5e79-ca1d-43a4-9885-ad8f58030a01",
   "metadata": {},
   "outputs": [],
   "source": [
    "df_group"
   ]
  },
  {
   "cell_type": "code",
   "execution_count": null,
   "id": "d5b70b21-207c-4568-aa0f-04bb62ae3b9d",
   "metadata": {},
   "outputs": [],
   "source": [
    "df_group['trips'].describe()"
   ]
  },
  {
   "cell_type": "markdown",
   "id": "639d8c39-2d3a-4a72-bb00-078e2f092a10",
   "metadata": {},
   "source": [
    "### Exploratory Analysis for Trips"
   ]
  },
  {
   "cell_type": "code",
   "execution_count": null,
   "id": "49dc525e-1856-46ea-af68-1c2281ff3d47",
   "metadata": {},
   "outputs": [],
   "source": [
    "df_group['trips'].hist(bins = 100)\n",
    "plt.show()"
   ]
  },
  {
   "cell_type": "code",
   "execution_count": null,
   "id": "804bc891-d4b0-48a7-b7af-459291ee627a",
   "metadata": {},
   "outputs": [],
   "source": [
    "df_group['trips'].sort_index().value_counts()"
   ]
  },
  {
   "cell_type": "code",
   "execution_count": null,
   "id": "706bed5b-a706-4fa3-9ec0-c3d5a7c47ff1",
   "metadata": {},
   "outputs": [],
   "source": [
    "df_group.to_csv('newyork_stationgroupby_final.csv')"
   ]
  },
  {
   "cell_type": "code",
   "execution_count": null,
   "id": "0130224f-b00a-4971-a379-755df7cc6818",
   "metadata": {},
   "outputs": [],
   "source": [
    "df_group.head()"
   ]
  },
  {
   "cell_type": "code",
   "execution_count": null,
   "id": "60a66c1e-f1d3-4cb9-9fed-087a79c1df98",
   "metadata": {},
   "outputs": [],
   "source": [
    "df.head()"
   ]
  },
  {
   "cell_type": "markdown",
   "id": "0062dd19-33cf-443c-8a3d-72fc5bcf6bde",
   "metadata": {},
   "source": [
    "### Merge Trip DataFrame with Main DataFrame"
   ]
  },
  {
   "cell_type": "code",
   "execution_count": null,
   "id": "1df7f4b7-564f-471f-b630-fdc5bcb49209",
   "metadata": {},
   "outputs": [],
   "source": [
    "df_m = df.merge(\n",
    "    df_group,\n",
    "    how='left',\n",
    "    on=['start_station_name', 'end_station_name']\n",
    ")"
   ]
  },
  {
   "cell_type": "code",
   "execution_count": null,
   "id": "a29f4a79-bb9d-414e-b128-812d38049126",
   "metadata": {},
   "outputs": [],
   "source": [
    "df_m"
   ]
  },
  {
   "cell_type": "code",
   "execution_count": null,
   "id": "7fe3e1b9-4674-44a7-bce5-466c041e9b95",
   "metadata": {},
   "outputs": [],
   "source": [
    "print(df_m['trips'].sum())\n",
    "print(df_m.shape)"
   ]
  },
  {
   "cell_type": "code",
   "execution_count": null,
   "id": "5f401b1d-921a-4194-bda0-d06a3fdb2650",
   "metadata": {},
   "outputs": [],
   "source": [
    "df_m.head()"
   ]
  },
  {
   "cell_type": "markdown",
   "id": "5d9b38df-ceec-4471-ae9b-7925924102ba",
   "metadata": {},
   "source": [
    "### Create smaller subset of df "
   ]
  },
  {
   "cell_type": "code",
   "execution_count": null,
   "id": "74475477-bf92-4f6c-bb3a-83f4f1b769ed",
   "metadata": {},
   "outputs": [],
   "source": [
    "df_final = df_m[[\n",
    "    'start_station_name',\n",
    "    'end_station_name',\n",
    "    'start_lat',\n",
    "    'start_lng',\n",
    "    'end_lat',\n",
    "    'end_lng',\n",
    "    'trips'\n",
    "]].drop_duplicates(subset=['start_station_name', 'end_station_name'])"
   ]
  },
  {
   "cell_type": "code",
   "execution_count": null,
   "id": "ba486469-4771-4c12-89f9-8ffde1efeec0",
   "metadata": {},
   "outputs": [],
   "source": [
    "df_final.head()"
   ]
  },
  {
   "cell_type": "markdown",
   "id": "4e49cb58-7f83-47b9-86a2-c1d0f27325a3",
   "metadata": {},
   "source": [
    "## 04. Kepler.gl map"
   ]
  },
  {
   "cell_type": "code",
   "execution_count": null,
   "id": "84bfb110-ff21-4c0d-9b2e-9175c891e923",
   "metadata": {},
   "outputs": [],
   "source": [
    "from ipywidgets import IntSlider\n",
    "IntSlider()"
   ]
  },
  {
   "cell_type": "code",
   "execution_count": null,
   "id": "560ad1e8-e654-4c6e-9367-0ecb1035623a",
   "metadata": {},
   "outputs": [],
   "source": [
    "df_final.dtypes"
   ]
  },
  {
   "cell_type": "code",
   "execution_count": null,
   "id": "18afbdf3-871c-4ef4-aa52-152c0c39218c",
   "metadata": {},
   "outputs": [],
   "source": [
    "df_final.head()"
   ]
  },
  {
   "cell_type": "code",
   "execution_count": null,
   "id": "fc4ae391-2e5e-43d2-bf17-eaeb93652687",
   "metadata": {},
   "outputs": [],
   "source": [
    "# Looking for missing values\n",
    "\n",
    "df_final.isnull().sum()"
   ]
  },
  {
   "cell_type": "markdown",
   "id": "7276387e-f531-4234-bbbb-ff1235d908f0",
   "metadata": {},
   "source": [
    "#### Dataframe clean up"
   ]
  },
  {
   "cell_type": "code",
   "execution_count": null,
   "id": "dcbbdc87-08a7-490d-ae39-b7afdcddbe1f",
   "metadata": {},
   "outputs": [],
   "source": [
    "# Replace NaNs in station name with an empty string\n",
    "\n",
    "df_final['start_station_name'] = df_final['start_station_name'].fillna('Unknown Start Station')"
   ]
  },
  {
   "cell_type": "code",
   "execution_count": null,
   "id": "2bfc48ba-9afa-4aac-b126-1c67af6f9835",
   "metadata": {},
   "outputs": [],
   "source": [
    "# Replace NaNs in station name with an empty string\n",
    "\n",
    "df_final['end_station_name'] = df_final['end_station_name'].fillna('Unknown End Station')"
   ]
  },
  {
   "cell_type": "code",
   "execution_count": null,
   "id": "ca93ae5c-e266-4a5c-b5b7-620d71119698",
   "metadata": {},
   "outputs": [],
   "source": [
    "df_final.columns"
   ]
  },
  {
   "cell_type": "code",
   "execution_count": null,
   "id": "ebe7750c-bb9e-488a-94bc-685aa5f11111",
   "metadata": {},
   "outputs": [],
   "source": [
    "# Looking for missing values\n",
    "\n",
    "df_final.isnull().sum()"
   ]
  },
  {
   "cell_type": "code",
   "execution_count": null,
   "id": "2d36832b-d78d-4a5a-ba67-1f99d3429867",
   "metadata": {},
   "outputs": [],
   "source": [
    "# Handling missing values in latitiude and longitude. Since we need those to properly map, I'm creating a new df without these\n",
    "\n",
    "df_clean_final = df_final.replace([np.inf, -np.inf], np.nan)"
   ]
  },
  {
   "cell_type": "code",
   "execution_count": null,
   "id": "41912b6a-63cb-4137-ae4f-b8d1ce054a95",
   "metadata": {},
   "outputs": [],
   "source": [
    "# Drop rows missing coordinates\n",
    "\n",
    "df_clean_final = df_final.dropna(subset=['end_lat', 'end_lng'])"
   ]
  },
  {
   "cell_type": "code",
   "execution_count": null,
   "id": "309c78d5-9668-4fde-b861-23c10257bfd4",
   "metadata": {},
   "outputs": [],
   "source": [
    "# Looking for missing values\n",
    "\n",
    "df_clean_final.isnull().sum()"
   ]
  },
  {
   "cell_type": "code",
   "execution_count": null,
   "id": "7df83360-73e1-4e59-b119-7ef28cc75907",
   "metadata": {},
   "outputs": [],
   "source": [
    "# Drop rows missing trips\n",
    "\n",
    "df_clean_final = df_final.dropna(subset=['trips'])"
   ]
  },
  {
   "cell_type": "code",
   "execution_count": null,
   "id": "3fbdaa36-7ae2-4c59-9439-e287093b9681",
   "metadata": {},
   "outputs": [],
   "source": [
    "# Looking for missing values\n",
    "\n",
    "df_clean_final.isnull().sum()"
   ]
  },
  {
   "cell_type": "code",
   "execution_count": null,
   "id": "4adf09b5-40ba-4d53-a136-0be19e40f0b3",
   "metadata": {},
   "outputs": [],
   "source": [
    "print(df_clean_final['trips'].sum())\n",
    "print(df_clean_final.shape)"
   ]
  },
  {
   "cell_type": "markdown",
   "id": "002c64fd-d02d-431f-bc3e-a5e30dbd54a6",
   "metadata": {},
   "source": [
    "#### Plotting the map"
   ]
  },
  {
   "cell_type": "code",
   "execution_count": null,
   "id": "5270f27d-5ce0-492a-a764-cb1fc4a76dea",
   "metadata": {},
   "outputs": [],
   "source": [
    "df_clean_final['trips'].value_counts()"
   ]
  },
  {
   "cell_type": "code",
   "execution_count": null,
   "id": "856509b8-5dbf-4e9c-ad1b-8d1e2316b9c0",
   "metadata": {},
   "outputs": [],
   "source": [
    "df_clean_final.head()"
   ]
  },
  {
   "cell_type": "code",
   "execution_count": null,
   "id": "7b5166ba-c7c7-4275-918f-8cdd2c3cfef5",
   "metadata": {},
   "outputs": [],
   "source": [
    "# Create KeplerGl instance\n",
    "\n",
    "m = KeplerGl(height = 700, data={\"data_1\": df_clean_final})\n",
    "m"
   ]
  },
  {
   "cell_type": "markdown",
   "id": "69b45e9c-18ec-41d1-9f3e-6b983d217a8a",
   "metadata": {},
   "source": [
    "### Updates made to map:\n",
    "#### For the Start Filter: I removed color based on \"Trips\" filter. I also changed the start color to purple to differentiate from the stop color, which I changed to teal. \n",
    "#### For the Stop Filter: I unhid the end filter and removed color based on trips. \n",
    "#### I changed to show the arc of start to end and changed the colors to purple and teal\n",
    "#### I added filter on trips and changed colors to purple and teal"
   ]
  },
  {
   "cell_type": "markdown",
   "id": "8bd21f25-c69d-4cd6-84ba-1ca8c65e5854",
   "metadata": {},
   "source": [
    "### Most popular trips made: \n",
    "#### The most popular trips are from the start station of Hoboken Terminal - Hudson St and Hudson Pl with the end station of Hoboken Ave at Monmouth St, with the total trips being 5,565."
   ]
  },
  {
   "cell_type": "markdown",
   "id": "4e666acc-cdb5-44aa-bc76-eeae2ba77a22",
   "metadata": {},
   "source": [
    "### Additional Impressions: \n",
    "#### There appears to be a lot of single ride trips, all over the city. A large chunk of data have start stations on one side of the Hudson River and end on the other side, which would suggest a lot of riders are using Citi Bikes to get aross the river. The data indicates that a majority of the rides start in Jersey City/Hoboken/New Jersey area and ride across the George Washington Bridge via the dedicated bike path to New York City/Manahattan. "
   ]
  },
  {
   "cell_type": "markdown",
   "id": "1ded7a4a-e2cb-4d02-81ae-f1ec6e6e8cb9",
   "metadata": {},
   "source": [
    "## 07. Creating a config"
   ]
  },
  {
   "cell_type": "code",
   "execution_count": null,
   "id": "73471c1e-1a78-45ee-b538-f4615bb77307",
   "metadata": {},
   "outputs": [],
   "source": [
    "config = m.config"
   ]
  },
  {
   "cell_type": "code",
   "execution_count": null,
   "id": "ff3a2e93-732b-4f33-aa5f-8717e858c97e",
   "metadata": {},
   "outputs": [],
   "source": [
    "config"
   ]
  },
  {
   "cell_type": "code",
   "execution_count": null,
   "id": "8faa1d6a-122b-4d8f-959a-012c76d1ebf9",
   "metadata": {},
   "outputs": [],
   "source": [
    "import json\n",
    "with open(\"config.json\", \"w\") as outfile:\n",
    "    json.dump(config, outfile)"
   ]
  },
  {
   "cell_type": "code",
   "execution_count": null,
   "id": "0d335072-9833-49e9-aa6a-cbd0d7757e7d",
   "metadata": {},
   "outputs": [],
   "source": [
    "m.save_to_html(file_name = 'New York Citi Bikes Bike Trips Aggregated.html', read_only = False, config = config)"
   ]
  },
  {
   "cell_type": "code",
   "execution_count": null,
   "id": "22c564ca-4bc2-4a14-87e1-beb37c2c7474",
   "metadata": {},
   "outputs": [],
   "source": []
  }
 ],
 "metadata": {
  "kernelspec": {
   "display_name": "Python (Citi_Bikes)",
   "language": "python",
   "name": "citi_bikes"
  },
  "language_info": {
   "codemirror_mode": {
    "name": "ipython",
    "version": 3
   },
   "file_extension": ".py",
   "mimetype": "text/x-python",
   "name": "python",
   "nbconvert_exporter": "python",
   "pygments_lexer": "ipython3",
   "version": "3.11.13"
  }
 },
 "nbformat": 4,
 "nbformat_minor": 5
}
